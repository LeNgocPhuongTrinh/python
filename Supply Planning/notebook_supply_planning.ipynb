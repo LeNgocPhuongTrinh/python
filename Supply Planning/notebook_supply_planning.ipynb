{
 "cells": [
  {
   "cell_type": "code",
   "execution_count": 1,
   "id": "41779a54-f56a-4d5e-8091-381cca61e839",
   "metadata": {
    "tags": []
   },
   "outputs": [],
   "source": [
    "import pandas as pd\n",
    "import numpy as np"
   ]
  },
  {
   "cell_type": "markdown",
   "id": "01a54414-550f-40cb-a422-775f74c73bcd",
   "metadata": {
    "tags": []
   },
   "source": [
    "## BƯỚC 1: ĐỌC DỮ LIỆU"
   ]
  },
  {
   "cell_type": "code",
   "execution_count": 4,
   "id": "57a900bc-41bc-4724-ab08-ab1dfd178d9c",
   "metadata": {},
   "outputs": [
    {
     "ename": "FileNotFoundError",
     "evalue": "[Errno 2] No such file or directory: 'INPUT_supply_planning.xlsx'",
     "output_type": "error",
     "traceback": [
      "\u001b[0;31m---------------------------------------------------------------------------\u001b[0m",
      "\u001b[0;31mFileNotFoundError\u001b[0m                         Traceback (most recent call last)",
      "\u001b[0;32m/var/folders/r3/4z86jw8j0979s_zxxdwz_gsr0000gn/T/ipykernel_2656/4191599868.py\u001b[0m in \u001b[0;36m<module>\u001b[0;34m\u001b[0m\n\u001b[1;32m      1\u001b[0m \u001b[0;31m# Đọc sheet 'Demand', không lấy cột B\u001b[0m\u001b[0;34m\u001b[0m\u001b[0;34m\u001b[0m\u001b[0m\n\u001b[0;32m----> 2\u001b[0;31m \u001b[0mdf_demand\u001b[0m \u001b[0;34m=\u001b[0m \u001b[0mpd\u001b[0m\u001b[0;34m.\u001b[0m\u001b[0mread_excel\u001b[0m\u001b[0;34m(\u001b[0m\u001b[0;34m'INPUT_supply_planning.xlsx'\u001b[0m\u001b[0;34m,\u001b[0m\u001b[0msheet_name\u001b[0m\u001b[0;34m=\u001b[0m\u001b[0;34m'Demand'\u001b[0m\u001b[0;34m,\u001b[0m\u001b[0musecols\u001b[0m\u001b[0;34m=\u001b[0m\u001b[0;34m'A,C,D'\u001b[0m\u001b[0;34m)\u001b[0m\u001b[0;34m\u001b[0m\u001b[0;34m\u001b[0m\u001b[0m\n\u001b[0m\u001b[1;32m      3\u001b[0m \u001b[0mdf_demand\u001b[0m\u001b[0;34m.\u001b[0m\u001b[0mhead\u001b[0m\u001b[0;34m(\u001b[0m\u001b[0;36m2\u001b[0m\u001b[0;34m)\u001b[0m\u001b[0;34m\u001b[0m\u001b[0;34m\u001b[0m\u001b[0m\n",
      "\u001b[0;32m~/opt/anaconda3/lib/python3.9/site-packages/pandas/util/_decorators.py\u001b[0m in \u001b[0;36mwrapper\u001b[0;34m(*args, **kwargs)\u001b[0m\n\u001b[1;32m    309\u001b[0m                     \u001b[0mstacklevel\u001b[0m\u001b[0;34m=\u001b[0m\u001b[0mstacklevel\u001b[0m\u001b[0;34m,\u001b[0m\u001b[0;34m\u001b[0m\u001b[0;34m\u001b[0m\u001b[0m\n\u001b[1;32m    310\u001b[0m                 )\n\u001b[0;32m--> 311\u001b[0;31m             \u001b[0;32mreturn\u001b[0m \u001b[0mfunc\u001b[0m\u001b[0;34m(\u001b[0m\u001b[0;34m*\u001b[0m\u001b[0margs\u001b[0m\u001b[0;34m,\u001b[0m \u001b[0;34m**\u001b[0m\u001b[0mkwargs\u001b[0m\u001b[0;34m)\u001b[0m\u001b[0;34m\u001b[0m\u001b[0;34m\u001b[0m\u001b[0m\n\u001b[0m\u001b[1;32m    312\u001b[0m \u001b[0;34m\u001b[0m\u001b[0m\n\u001b[1;32m    313\u001b[0m         \u001b[0;32mreturn\u001b[0m \u001b[0mwrapper\u001b[0m\u001b[0;34m\u001b[0m\u001b[0;34m\u001b[0m\u001b[0m\n",
      "\u001b[0;32m~/opt/anaconda3/lib/python3.9/site-packages/pandas/io/excel/_base.py\u001b[0m in \u001b[0;36mread_excel\u001b[0;34m(io, sheet_name, header, names, index_col, usecols, squeeze, dtype, engine, converters, true_values, false_values, skiprows, nrows, na_values, keep_default_na, na_filter, verbose, parse_dates, date_parser, thousands, decimal, comment, skipfooter, convert_float, mangle_dupe_cols, storage_options)\u001b[0m\n\u001b[1;32m    455\u001b[0m     \u001b[0;32mif\u001b[0m \u001b[0;32mnot\u001b[0m \u001b[0misinstance\u001b[0m\u001b[0;34m(\u001b[0m\u001b[0mio\u001b[0m\u001b[0;34m,\u001b[0m \u001b[0mExcelFile\u001b[0m\u001b[0;34m)\u001b[0m\u001b[0;34m:\u001b[0m\u001b[0;34m\u001b[0m\u001b[0;34m\u001b[0m\u001b[0m\n\u001b[1;32m    456\u001b[0m         \u001b[0mshould_close\u001b[0m \u001b[0;34m=\u001b[0m \u001b[0;32mTrue\u001b[0m\u001b[0;34m\u001b[0m\u001b[0;34m\u001b[0m\u001b[0m\n\u001b[0;32m--> 457\u001b[0;31m         \u001b[0mio\u001b[0m \u001b[0;34m=\u001b[0m \u001b[0mExcelFile\u001b[0m\u001b[0;34m(\u001b[0m\u001b[0mio\u001b[0m\u001b[0;34m,\u001b[0m \u001b[0mstorage_options\u001b[0m\u001b[0;34m=\u001b[0m\u001b[0mstorage_options\u001b[0m\u001b[0;34m,\u001b[0m \u001b[0mengine\u001b[0m\u001b[0;34m=\u001b[0m\u001b[0mengine\u001b[0m\u001b[0;34m)\u001b[0m\u001b[0;34m\u001b[0m\u001b[0;34m\u001b[0m\u001b[0m\n\u001b[0m\u001b[1;32m    458\u001b[0m     \u001b[0;32melif\u001b[0m \u001b[0mengine\u001b[0m \u001b[0;32mand\u001b[0m \u001b[0mengine\u001b[0m \u001b[0;34m!=\u001b[0m \u001b[0mio\u001b[0m\u001b[0;34m.\u001b[0m\u001b[0mengine\u001b[0m\u001b[0;34m:\u001b[0m\u001b[0;34m\u001b[0m\u001b[0;34m\u001b[0m\u001b[0m\n\u001b[1;32m    459\u001b[0m         raise ValueError(\n",
      "\u001b[0;32m~/opt/anaconda3/lib/python3.9/site-packages/pandas/io/excel/_base.py\u001b[0m in \u001b[0;36m__init__\u001b[0;34m(self, path_or_buffer, engine, storage_options)\u001b[0m\n\u001b[1;32m   1374\u001b[0m                 \u001b[0mext\u001b[0m \u001b[0;34m=\u001b[0m \u001b[0;34m\"xls\"\u001b[0m\u001b[0;34m\u001b[0m\u001b[0;34m\u001b[0m\u001b[0m\n\u001b[1;32m   1375\u001b[0m             \u001b[0;32melse\u001b[0m\u001b[0;34m:\u001b[0m\u001b[0;34m\u001b[0m\u001b[0;34m\u001b[0m\u001b[0m\n\u001b[0;32m-> 1376\u001b[0;31m                 ext = inspect_excel_format(\n\u001b[0m\u001b[1;32m   1377\u001b[0m                     \u001b[0mcontent_or_path\u001b[0m\u001b[0;34m=\u001b[0m\u001b[0mpath_or_buffer\u001b[0m\u001b[0;34m,\u001b[0m \u001b[0mstorage_options\u001b[0m\u001b[0;34m=\u001b[0m\u001b[0mstorage_options\u001b[0m\u001b[0;34m\u001b[0m\u001b[0;34m\u001b[0m\u001b[0m\n\u001b[1;32m   1378\u001b[0m                 )\n",
      "\u001b[0;32m~/opt/anaconda3/lib/python3.9/site-packages/pandas/io/excel/_base.py\u001b[0m in \u001b[0;36minspect_excel_format\u001b[0;34m(content_or_path, storage_options)\u001b[0m\n\u001b[1;32m   1248\u001b[0m         \u001b[0mcontent_or_path\u001b[0m \u001b[0;34m=\u001b[0m \u001b[0mBytesIO\u001b[0m\u001b[0;34m(\u001b[0m\u001b[0mcontent_or_path\u001b[0m\u001b[0;34m)\u001b[0m\u001b[0;34m\u001b[0m\u001b[0;34m\u001b[0m\u001b[0m\n\u001b[1;32m   1249\u001b[0m \u001b[0;34m\u001b[0m\u001b[0m\n\u001b[0;32m-> 1250\u001b[0;31m     with get_handle(\n\u001b[0m\u001b[1;32m   1251\u001b[0m         \u001b[0mcontent_or_path\u001b[0m\u001b[0;34m,\u001b[0m \u001b[0;34m\"rb\"\u001b[0m\u001b[0;34m,\u001b[0m \u001b[0mstorage_options\u001b[0m\u001b[0;34m=\u001b[0m\u001b[0mstorage_options\u001b[0m\u001b[0;34m,\u001b[0m \u001b[0mis_text\u001b[0m\u001b[0;34m=\u001b[0m\u001b[0;32mFalse\u001b[0m\u001b[0;34m\u001b[0m\u001b[0;34m\u001b[0m\u001b[0m\n\u001b[1;32m   1252\u001b[0m     ) as handle:\n",
      "\u001b[0;32m~/opt/anaconda3/lib/python3.9/site-packages/pandas/io/common.py\u001b[0m in \u001b[0;36mget_handle\u001b[0;34m(path_or_buf, mode, encoding, compression, memory_map, is_text, errors, storage_options)\u001b[0m\n\u001b[1;32m    796\u001b[0m         \u001b[0;32melse\u001b[0m\u001b[0;34m:\u001b[0m\u001b[0;34m\u001b[0m\u001b[0;34m\u001b[0m\u001b[0m\n\u001b[1;32m    797\u001b[0m             \u001b[0;31m# Binary mode\u001b[0m\u001b[0;34m\u001b[0m\u001b[0;34m\u001b[0m\u001b[0m\n\u001b[0;32m--> 798\u001b[0;31m             \u001b[0mhandle\u001b[0m \u001b[0;34m=\u001b[0m \u001b[0mopen\u001b[0m\u001b[0;34m(\u001b[0m\u001b[0mhandle\u001b[0m\u001b[0;34m,\u001b[0m \u001b[0mioargs\u001b[0m\u001b[0;34m.\u001b[0m\u001b[0mmode\u001b[0m\u001b[0;34m)\u001b[0m\u001b[0;34m\u001b[0m\u001b[0;34m\u001b[0m\u001b[0m\n\u001b[0m\u001b[1;32m    799\u001b[0m         \u001b[0mhandles\u001b[0m\u001b[0;34m.\u001b[0m\u001b[0mappend\u001b[0m\u001b[0;34m(\u001b[0m\u001b[0mhandle\u001b[0m\u001b[0;34m)\u001b[0m\u001b[0;34m\u001b[0m\u001b[0;34m\u001b[0m\u001b[0m\n\u001b[1;32m    800\u001b[0m \u001b[0;34m\u001b[0m\u001b[0m\n",
      "\u001b[0;31mFileNotFoundError\u001b[0m: [Errno 2] No such file or directory: 'INPUT_supply_planning.xlsx'"
     ]
    }
   ],
   "source": [
    "# Đọc sheet 'Demand', không lấy cột B\n",
    "df_demand = pd.read_excel('INPUT_supply_planning.xlsx',sheet_name='Demand',usecols='A,C,D')\n",
    "df_demand.head(2)"
   ]
  },
  {
   "cell_type": "code",
   "execution_count": null,
   "id": "42202215-6295-4587-95a8-3109d421412e",
   "metadata": {},
   "outputs": [],
   "source": [
    "# Đọc sheet 'Supply', bỏ dòng đầu tiên\n",
    "df_supply = pd.read_excel('INPUT_supply_planning.xlsx',sheet_name='Supply',skiprows=0,header=1)\n",
    "df_supply.head(2)"
   ]
  },
  {
   "cell_type": "markdown",
   "id": "5acde7c0-3df5-45a6-b3bd-29494fcc8278",
   "metadata": {},
   "source": [
    "## BƯỚC 2: LUỸ KẾ DEMAND"
   ]
  },
  {
   "cell_type": "code",
   "execution_count": null,
   "id": "4a404589-39fb-49e3-8c2a-103680ec2fb0",
   "metadata": {},
   "outputs": [],
   "source": [
    "# Sắp xếp data sheet Demand theo thứ tự tăng dần của Part_No và Job start date\n",
    "df_demand = df_demand.sort_values(by=['Part_No','Job start date'])"
   ]
  },
  {
   "cell_type": "code",
   "execution_count": null,
   "id": "e93a47fb-0f3d-4ab8-9a4b-bb14838a8e0d",
   "metadata": {},
   "outputs": [],
   "source": [
    "# Tạo cột cumsum từ Job_qty cho từng Part_no\n",
    "df_demand['cumsum_demand'] = df_demand.groupby('Part_No')['Job Qty'].cumsum()\n",
    "df_demand.head(2)"
   ]
  },
  {
   "cell_type": "markdown",
   "id": "eff7e28e-6f32-42a9-b5b3-5eba3caf181b",
   "metadata": {},
   "source": [
    "## BƯỚC 3: Unpivot dữ liệu Supply\n",
    "TÌM SỐ LƯỢNG STOCK ON HAND VÀ STOCK ĐANG VỀ (IN-TRANSIT)"
   ]
  },
  {
   "cell_type": "code",
   "execution_count": null,
   "id": "5d0ace66-7b5a-4c0d-9caf-8a671604d9f1",
   "metadata": {},
   "outputs": [],
   "source": [
    "# Đổi tên cột stock on hand thành ngày 1 ngày trong hiện tại hoặc quá khứ. \n",
    "# Mục đích khi cung cấp cho demand thì sẽ lấy những dòng này đầu tiên\n",
    "df_supply = df_supply.rename(columns={'Stock on hand':pd.to_datetime('2000-01-01')}) #pd.Timestamp.today()"
   ]
  },
  {
   "cell_type": "code",
   "execution_count": null,
   "id": "97476165-50a2-4e80-af12-0f5548e928fe",
   "metadata": {},
   "outputs": [],
   "source": [
    "# Lấy số lượng hàng in-transit\n",
    "df_supply_melted = df_supply.melt(id_vars='Part_No',var_name='supply_week',value_name='supply_qty')\n",
    "\n",
    "# Sort theo Part_no và Supply_week tăng dần\n",
    "df_supply_melted = df_supply_melted.sort_values(by=['Part_No','supply_week'])\n",
    "df_supply_melted.head()"
   ]
  },
  {
   "cell_type": "code",
   "execution_count": null,
   "id": "c592b814-6a7d-4e06-b9f0-a420bf643d76",
   "metadata": {},
   "outputs": [],
   "source": [
    "# Nhóm theo mã hàng, xem số lượng luỹ tiến supply là bao nhiêu\n",
    "df_supply_melted['cumsum_supply'] = df_supply_melted.groupby('Part_No')['supply_qty'].cumsum()\n",
    "df_supply_melted"
   ]
  },
  {
   "cell_type": "markdown",
   "id": "8465abef-b977-45a4-b1c8-ce4da2d7f436",
   "metadata": {},
   "source": [
    "## BƯỚC 4: JOIN DEMAND VÀ SUPPLY"
   ]
  },
  {
   "cell_type": "code",
   "execution_count": null,
   "id": "e0416560-6dd8-4757-874f-ffbad309f405",
   "metadata": {},
   "outputs": [],
   "source": [
    "# Join bảng demand và bảng supply\n",
    "df_demand_supply = df_demand.merge(df_supply_melted,on='Part_No')\n",
    "df_demand_supply.head()"
   ]
  },
  {
   "cell_type": "markdown",
   "id": "aaa1a164-48e9-441f-ac39-0a44383bbb15",
   "metadata": {},
   "source": [
    "## BƯỚC 5: CHỌN SUPPLY_WEEK ĐẦU TIÊN ĐÁP ỨNG ĐƯỢC SỐ LƯỢNG"
   ]
  },
  {
   "cell_type": "code",
   "execution_count": null,
   "id": "4d4695cd-ac01-4345-af23-1d3535f2b1a7",
   "metadata": {},
   "outputs": [],
   "source": [
    "# Bỏ các trường hợp supply không đủ cho demand\n",
    "df_enough = df_demand_supply[df_demand_supply['cumsum_demand'] <= df_demand_supply['cumsum_supply']]"
   ]
  },
  {
   "cell_type": "code",
   "execution_count": null,
   "id": "b9f9a47d-9418-4565-8610-fd0a149695ef",
   "metadata": {},
   "outputs": [],
   "source": [
    "# Lấy dòng đầu tiên trong mỗi demand vì đã đủ hàng supply (đủ vì đã filter ở bước kề trên)\n",
    "df_first_supply = df_enough.groupby(['Part_No','cumsum_demand']).first()"
   ]
  },
  {
   "cell_type": "code",
   "execution_count": null,
   "id": "bb36098c-56dd-4828-856c-0956b80da778",
   "metadata": {},
   "outputs": [],
   "source": [
    "# Giữ lại các cột cần thiết\n",
    "df_first_supply = df_first_supply.reset_index()[['Part_No','Job Qty','Job start date','supply_week','supply_qty']]\n",
    "df_first_supply"
   ]
  },
  {
   "cell_type": "markdown",
   "id": "bbe83548-a8bb-4911-9735-d10d103ff959",
   "metadata": {
    "tags": []
   },
   "source": [
    "## BƯỚC 6: Lấy lại các dòng không có demand hoặc supply"
   ]
  },
  {
   "cell_type": "code",
   "execution_count": null,
   "id": "f22ab58e-ed5f-4d72-8f81-47f44a336838",
   "metadata": {
    "tags": []
   },
   "outputs": [],
   "source": [
    "# Lấy lại các dòng không có demand hoặc không có supply\n",
    "df_final = df_first_supply.merge(df_demand,how='right')\n",
    "df_final.head()"
   ]
  },
  {
   "cell_type": "code",
   "execution_count": null,
   "id": "36616d8f-60f1-48e7-94b9-95bf9afc183c",
   "metadata": {
    "tags": []
   },
   "outputs": [],
   "source": [
    "df_final['late_date'] = df_final['supply_week'] - df_final['Job start date'] \n",
    "df_final.head()"
   ]
  },
  {
   "cell_type": "code",
   "execution_count": null,
   "id": "0fe12376-9b23-4d99-bb3f-7e3889aed4d8",
   "metadata": {},
   "outputs": [],
   "source": [
    "df_final['supply_week'] = df_final['supply_week'].fillna('no supply')\n",
    "df_final = df_final.fillna('')"
   ]
  },
  {
   "cell_type": "markdown",
   "id": "baeca641-2783-4299-8495-d55efeffc991",
   "metadata": {
    "tags": []
   },
   "source": [
    "## BƯỚC 7: XUẤT RA FILE EXCEL"
   ]
  },
  {
   "cell_type": "code",
   "execution_count": 17,
   "id": "1b5a909e-5ca9-47eb-a599-6c95a09e2c64",
   "metadata": {},
   "outputs": [],
   "source": [
    "df_final.to_excel('OUTPUT_supply.xlsx')"
   ]
  }
 ],
 "metadata": {
  "kernelspec": {
   "display_name": "Python 3 (ipykernel)",
   "language": "python",
   "name": "python3"
  },
  "language_info": {
   "codemirror_mode": {
    "name": "ipython",
    "version": 3
   },
   "file_extension": ".py",
   "mimetype": "text/x-python",
   "name": "python",
   "nbconvert_exporter": "python",
   "pygments_lexer": "ipython3",
   "version": "3.9.7"
  }
 },
 "nbformat": 4,
 "nbformat_minor": 5
}
